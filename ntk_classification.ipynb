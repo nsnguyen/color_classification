{
 "cells": [
  {
   "cell_type": "code",
   "execution_count": 50,
   "metadata": {
    "collapsed": true
   },
   "outputs": [],
   "source": [
    "import nltk\n",
    "import pandas as pd\n",
    "import random\n",
    "\n",
    "from nltk.tokenize import word_tokenize # or use some other tokenizer\n",
    "from itertools import chain\n",
    "import pickle\n",
    "\n",
    "# https://stackoverflow.com/questions/20827741/nltk-naivebayesclassifier-training-for-sentiment-analysis"
   ]
  },
  {
   "cell_type": "code",
   "execution_count": 2,
   "metadata": {
    "collapsed": true
   },
   "outputs": [],
   "source": [
    "color_dataset = pd.read_csv('Chrome_colors.csv',encoding='latin-1')"
   ]
  },
  {
   "cell_type": "code",
   "execution_count": 3,
   "metadata": {},
   "outputs": [
    {
     "data": {
      "text/html": [
       "<div>\n",
       "<style>\n",
       "    .dataframe thead tr:only-child th {\n",
       "        text-align: right;\n",
       "    }\n",
       "\n",
       "    .dataframe thead th {\n",
       "        text-align: left;\n",
       "    }\n",
       "\n",
       "    .dataframe tbody tr th {\n",
       "        vertical-align: top;\n",
       "    }\n",
       "</style>\n",
       "<table border=\"1\" class=\"dataframe\">\n",
       "  <thead>\n",
       "    <tr style=\"text-align: right;\">\n",
       "      <th></th>\n",
       "      <th>Ext1Desc</th>\n",
       "      <th>GenericExt1Color</th>\n",
       "      <th>DivisionName</th>\n",
       "      <th>subDivisionName</th>\n",
       "      <th>modelname</th>\n",
       "    </tr>\n",
       "  </thead>\n",
       "  <tbody>\n",
       "    <tr>\n",
       "      <th>0</th>\n",
       "      <td>Ablaze</td>\n",
       "      <td>Red</td>\n",
       "      <td>Scion</td>\n",
       "      <td>Scion Cars</td>\n",
       "      <td>FR-S</td>\n",
       "    </tr>\n",
       "    <tr>\n",
       "      <th>1</th>\n",
       "      <td>Ablaze Red Metallic</td>\n",
       "      <td>Red</td>\n",
       "      <td>Suzuki</td>\n",
       "      <td>Suzuki</td>\n",
       "      <td>SX4</td>\n",
       "    </tr>\n",
       "    <tr>\n",
       "      <th>2</th>\n",
       "      <td>Adriatic Blue Metallic</td>\n",
       "      <td>Blue</td>\n",
       "      <td>Isuzu</td>\n",
       "      <td>Isuzu Pickups</td>\n",
       "      <td>i-280</td>\n",
       "    </tr>\n",
       "    <tr>\n",
       "      <th>3</th>\n",
       "      <td>Agate Green</td>\n",
       "      <td>Green</td>\n",
       "      <td>Mercedes-Benz</td>\n",
       "      <td>Mercedes-Benz</td>\n",
       "      <td>G-Class</td>\n",
       "    </tr>\n",
       "    <tr>\n",
       "      <th>4</th>\n",
       "      <td>Akoya Silver Metallic</td>\n",
       "      <td>Silver</td>\n",
       "      <td>Audi</td>\n",
       "      <td>Audi</td>\n",
       "      <td>A8 L</td>\n",
       "    </tr>\n",
       "  </tbody>\n",
       "</table>\n",
       "</div>"
      ],
      "text/plain": [
       "                 Ext1Desc GenericExt1Color   DivisionName subDivisionName  \\\n",
       "0                  Ablaze              Red          Scion      Scion Cars   \n",
       "1     Ablaze Red Metallic              Red         Suzuki          Suzuki   \n",
       "2  Adriatic Blue Metallic             Blue          Isuzu   Isuzu Pickups   \n",
       "3             Agate Green            Green  Mercedes-Benz   Mercedes-Benz   \n",
       "4   Akoya Silver Metallic           Silver           Audi            Audi   \n",
       "\n",
       "  modelname  \n",
       "0      FR-S  \n",
       "1       SX4  \n",
       "2     i-280  \n",
       "3   G-Class  \n",
       "4      A8 L  "
      ]
     },
     "execution_count": 3,
     "metadata": {},
     "output_type": "execute_result"
    }
   ],
   "source": [
    "color_dataset.head()"
   ]
  },
  {
   "cell_type": "code",
   "execution_count": 4,
   "metadata": {
    "collapsed": true
   },
   "outputs": [],
   "source": [
    "color_labeled_names = ([(row['Ext1Desc'],row['GenericExt1Color']) for index, row in color_dataset.iterrows()])"
   ]
  },
  {
   "cell_type": "code",
   "execution_count": 9,
   "metadata": {},
   "outputs": [],
   "source": [
    "random.shuffle(color_labeled_names)"
   ]
  },
  {
   "cell_type": "code",
   "execution_count": 10,
   "metadata": {},
   "outputs": [
    {
     "data": {
      "text/plain": [
       "42461"
      ]
     },
     "execution_count": 10,
     "metadata": {},
     "output_type": "execute_result"
    }
   ],
   "source": [
    "len(color_labeled_names)"
   ]
  },
  {
   "cell_type": "code",
   "execution_count": 11,
   "metadata": {
    "collapsed": true
   },
   "outputs": [],
   "source": [
    "train_set, test_set = color_labeled_names[1000:], color_labeled_names[:1000]"
   ]
  },
  {
   "cell_type": "code",
   "execution_count": 12,
   "metadata": {
    "collapsed": true
   },
   "outputs": [],
   "source": [
    "# train_set = train_set[1:10]"
   ]
  },
  {
   "cell_type": "code",
   "execution_count": 53,
   "metadata": {},
   "outputs": [
    {
     "data": {
      "text/plain": [
       "[('Red Scuderia', 'Red'),\n",
       " ('Slingshot Yellow', 'Yellow'),\n",
       " ('Iridium Silver Metallic', 'Silver'),\n",
       " ('Frost White', 'White'),\n",
       " ('Granite Crystal Metallic Clearcoat', 'Gray'),\n",
       " ('Seacrest Green Metallic', 'Green'),\n",
       " ('Evergreen Pearl', 'Green'),\n",
       " ('Cheyenne Red', 'Red'),\n",
       " ('Majestic Blue Metallic', 'Blue'),\n",
       " ('Deep Cherry Red Crystal Pearl', 'Maroon'),\n",
       " ('Blue Flame Metallic', 'Blue'),\n",
       " ('Silver Lightning', 'Silver'),\n",
       " ('Aqua Blue Metallic', 'Blue'),\n",
       " ('Platinum Graphite', 'Gray'),\n",
       " ('Cardinal Red', 'Red'),\n",
       " ('Sonoma Red Metallic', 'Red'),\n",
       " ('Onyx Black', 'Black'),\n",
       " ('Sapphire Blue Metallic', 'Blue'),\n",
       " ('Magnesium Pearl', 'Green')]"
      ]
     },
     "execution_count": 53,
     "metadata": {},
     "output_type": "execute_result"
    }
   ],
   "source": [
    "test_set[1:20]"
   ]
  },
  {
   "cell_type": "code",
   "execution_count": null,
   "metadata": {
    "collapsed": true
   },
   "outputs": [],
   "source": []
  },
  {
   "cell_type": "code",
   "execution_count": 14,
   "metadata": {
    "collapsed": true
   },
   "outputs": [],
   "source": [
    "# all_words = set(word.lower() for passage in train_set for word in word_tokenize(passage[0]))\n",
    "# t = [({word: (word in word_tokenize(x[0])) for word in all_words}, x[1]) for x in train_set]"
   ]
  },
  {
   "cell_type": "code",
   "execution_count": null,
   "metadata": {
    "collapsed": true
   },
   "outputs": [],
   "source": [
    "# classifier = nltk.NaiveBayesClassifier.train(t)"
   ]
  },
  {
   "cell_type": "code",
   "execution_count": null,
   "metadata": {
    "collapsed": true
   },
   "outputs": [],
   "source": []
  },
  {
   "cell_type": "code",
   "execution_count": null,
   "metadata": {
    "collapsed": true
   },
   "outputs": [],
   "source": [
    "\n",
    "# test_sentence = \"Blue Velvet Pearl\""
   ]
  },
  {
   "cell_type": "code",
   "execution_count": null,
   "metadata": {
    "collapsed": true
   },
   "outputs": [],
   "source": [
    "# test_sent_features = {word.lower(): (word in word_tokenize(test_sentence.lower())) for word in all_words}"
   ]
  },
  {
   "cell_type": "code",
   "execution_count": 17,
   "metadata": {},
   "outputs": [],
   "source": [
    "# classifier.classify(test_sent_features)"
   ]
  },
  {
   "cell_type": "code",
   "execution_count": 18,
   "metadata": {
    "collapsed": true
   },
   "outputs": [],
   "source": [
    "# classifier.show_most_informative_features()"
   ]
  },
  {
   "cell_type": "code",
   "execution_count": null,
   "metadata": {
    "collapsed": true
   },
   "outputs": [],
   "source": []
  },
  {
   "cell_type": "code",
   "execution_count": 19,
   "metadata": {},
   "outputs": [],
   "source": [
    "# another way of doing this.\n",
    "vocabulary = set(chain(*[word_tokenize(i[0].lower()) for i in train_set]))\n",
    "feature_set = [({i:(i in word_tokenize(sentence.lower())) for i in vocabulary},tag) for sentence, tag in train_set]\n"
   ]
  },
  {
   "cell_type": "code",
   "execution_count": 21,
   "metadata": {
    "collapsed": true
   },
   "outputs": [],
   "source": [
    "classifier = nltk.NaiveBayesClassifier.train(feature_set)\n"
   ]
  },
  {
   "cell_type": "code",
   "execution_count": null,
   "metadata": {
    "collapsed": true
   },
   "outputs": [],
   "source": []
  },
  {
   "cell_type": "code",
   "execution_count": null,
   "metadata": {
    "collapsed": true
   },
   "outputs": [],
   "source": []
  },
  {
   "cell_type": "code",
   "execution_count": 54,
   "metadata": {
    "collapsed": true
   },
   "outputs": [],
   "source": [
    "#test_set\n",
    "# another way of doing this.\n",
    "vocabulary_test = set(chain(*[word_tokenize(i[0].lower()) for i in test_set]))\n",
    "feature_set_test = [({i:(i in word_tokenize(sentence.lower())) for i in vocabulary},tag) for sentence, tag in test_set]\n"
   ]
  },
  {
   "cell_type": "code",
   "execution_count": 56,
   "metadata": {},
   "outputs": [
    {
     "name": "stdout",
     "output_type": "stream",
     "text": [
      "0.875\n"
     ]
    }
   ],
   "source": [
    "print(nltk.classify.accuracy(classifier, feature_set_test))"
   ]
  },
  {
   "cell_type": "code",
   "execution_count": 22,
   "metadata": {},
   "outputs": [
    {
     "name": "stdout",
     "output_type": "stream",
     "text": [
      "Most Informative Features\n",
      "                    blue = True             Blue : Red    =   2923.0 : 1.0\n",
      "                  silver = True           Silver : Red    =   2432.4 : 1.0\n",
      "                  yellow = True           Yellow : White  =   2169.7 : 1.0\n",
      "                  orange = True           Orange : Black  =   1890.7 : 1.0\n",
      "                  copper = True           Copper : Gray   =   1755.3 : 1.0\n",
      "                   white = True            White : Blue   =   1752.2 : 1.0\n",
      "                     red = True              Red : Gray   =   1699.5 : 1.0\n",
      "                   green = True            Green : Blue   =   1571.8 : 1.0\n",
      "                   brown = True            Brown : Blue   =   1416.4 : 1.0\n",
      "                 special = True           Non-Co : Blue   =   1018.2 : 1.0\n"
     ]
    }
   ],
   "source": [
    "classifier.show_most_informative_features()"
   ]
  },
  {
   "cell_type": "code",
   "execution_count": 47,
   "metadata": {
    "collapsed": true
   },
   "outputs": [],
   "source": [
    "test_sentence = \"Vanilla Latte\"\n",
    "featurized_test_sentence =  {i:(i in word_tokenize(test_sentence.lower())) for i in vocabulary}\n"
   ]
  },
  {
   "cell_type": "code",
   "execution_count": 48,
   "metadata": {},
   "outputs": [
    {
     "data": {
      "text/plain": [
       "'Tan'"
      ]
     },
     "execution_count": 48,
     "metadata": {},
     "output_type": "execute_result"
    }
   ],
   "source": [
    "classifier.classify(featurized_test_sentence)"
   ]
  },
  {
   "cell_type": "code",
   "execution_count": 49,
   "metadata": {},
   "outputs": [
    {
     "name": "stdout",
     "output_type": "stream",
     "text": [
      "test_sent: Vanilla Latte\n",
      "tag: Tan\n"
     ]
    }
   ],
   "source": [
    "print (\"test_sent:\",test_sentence)\n",
    "print (\"tag:\",classifier.classify(featurized_test_sentence))"
   ]
  },
  {
   "cell_type": "code",
   "execution_count": null,
   "metadata": {
    "collapsed": true
   },
   "outputs": [],
   "source": [
    "# 'Vanilla Latte' returns white and tan color"
   ]
  },
  {
   "cell_type": "code",
   "execution_count": 51,
   "metadata": {
    "collapsed": true
   },
   "outputs": [],
   "source": [
    "pickle.dump(classifier, open(\"nltk_nb_colors.pkl\",\"wb\"))"
   ]
  },
  {
   "cell_type": "code",
   "execution_count": null,
   "metadata": {
    "collapsed": true
   },
   "outputs": [],
   "source": []
  },
  {
   "cell_type": "code",
   "execution_count": null,
   "metadata": {
    "collapsed": true
   },
   "outputs": [],
   "source": []
  },
  {
   "cell_type": "code",
   "execution_count": null,
   "metadata": {
    "collapsed": true
   },
   "outputs": [],
   "source": []
  },
  {
   "cell_type": "code",
   "execution_count": null,
   "metadata": {
    "collapsed": true
   },
   "outputs": [],
   "source": []
  },
  {
   "cell_type": "code",
   "execution_count": null,
   "metadata": {
    "collapsed": true
   },
   "outputs": [],
   "source": []
  },
  {
   "cell_type": "code",
   "execution_count": null,
   "metadata": {
    "collapsed": true
   },
   "outputs": [],
   "source": []
  },
  {
   "cell_type": "code",
   "execution_count": null,
   "metadata": {
    "collapsed": true
   },
   "outputs": [],
   "source": []
  }
 ],
 "metadata": {
  "kernelspec": {
   "display_name": "Python 3",
   "language": "python",
   "name": "python3"
  },
  "language_info": {
   "codemirror_mode": {
    "name": "ipython",
    "version": 3
   },
   "file_extension": ".py",
   "mimetype": "text/x-python",
   "name": "python",
   "nbconvert_exporter": "python",
   "pygments_lexer": "ipython3",
   "version": "3.6.1"
  }
 },
 "nbformat": 4,
 "nbformat_minor": 2
}
